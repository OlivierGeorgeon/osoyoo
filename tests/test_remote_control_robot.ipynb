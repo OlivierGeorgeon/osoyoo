{
 "cells": [
  {
   "cell_type": "markdown",
   "id": "a69f7a5e-2c74-46f8-bf09-5ad14011c960",
   "metadata": {},
   "source": [
    "This notebook helps you test your PetitCat robot. The documentation is here [https://github.com/OlivierGeorgeon/osoyoo/blob/dev/docs/tests/test_remote_control_robot.md](https://github.com/OlivierGeorgeon/osoyoo/blob/dev/docs/tests/test_remote_control_robot.md).\n",
    "\n",
    "You must run this notebook locally on your computer. It can't connect to the robot if it is executed in an online environment such as colab."
   ]
  },
  {
   "cell_type": "markdown",
   "id": "cd88da2e-1641-45fa-8b9e-02b55c410a48",
   "metadata": {},
   "source": [
    "# Initialize the code"
   ]
  },
  {
   "cell_type": "code",
   "execution_count": 1,
   "id": "8d85706c-e17f-44bf-b944-92c28d65c6f3",
   "metadata": {},
   "outputs": [],
   "source": [
    "from test_remote_control_robot import PetitCatTester"
   ]
  },
  {
   "cell_type": "markdown",
   "id": "5459356a-30b9-496e-bc96-500cb0ba41dc",
   "metadata": {},
   "source": [
    "# Connect to the robot"
   ]
  },
  {
   "cell_type": "markdown",
   "id": "f918e102-b3d3-4395-b984-2c673bb94a66",
   "metadata": {},
   "source": [
    "Make sure that your Robot and your PC are connected to the same wifi network. Enter your robot's IP address and the timeout in seconds:"
   ]
  },
  {
   "cell_type": "code",
   "execution_count": 2,
   "id": "e2557874-c06d-4d33-8ed7-c35f0f334c75",
   "metadata": {},
   "outputs": [],
   "source": [
    "robot_ip = \"192.168.8.242\"\n",
    "timeout = 5"
   ]
  },
  {
   "cell_type": "code",
   "execution_count": 3,
   "id": "761de3d8-94f5-470c-854f-7ba940089697",
   "metadata": {},
   "outputs": [],
   "source": [
    "# @title Connect to the robot\n",
    "petitcat_tester = PetitCatTester(robot_ip, timeout)"
   ]
  },
  {
   "cell_type": "markdown",
   "id": "259dd048-be3a-4615-8224-c2d42c10cb70",
   "metadata": {},
   "source": [
    "# Send commands"
   ]
  },
  {
   "cell_type": "raw",
   "id": "97142c6a-0179-4695-a120-af9287b9d0b9",
   "metadata": {},
   "source": [
    "The robot will execute your command and send the outcome packet back to the PC.\n",
    "\r\n",
    "If the wifi connection fails, the timeout is triggered and the outcome packet is None. The clock is not incremente.d\n",
    "\n",
    "If you resend a command packet containing a clock equal to the previous one, the robot will not re-execute the command. It will immediately resend the outcome packet bakc."
   ]
  },
  {
   "cell_type": "code",
   "execution_count": null,
   "id": "58a76869-cfe8-45a9-bf10-7da0de4cd4ac",
   "metadata": {},
   "outputs": [],
   "source": [
    "# @title Command 8: Forward\n",
    "petitcat_tester.send(\"8\")"
   ]
  },
  {
   "cell_type": "code",
   "execution_count": null,
   "id": "52b29fdd-c406-46f1-a41f-53680f583efc",
   "metadata": {},
   "outputs": [],
   "source": [
    "# @title Command 4: Swipe left\n",
    "petitcat_tester.send(\"4\")"
   ]
  },
  {
   "cell_type": "code",
   "execution_count": null,
   "id": "b179eca6-d164-49ce-9de6-14c6704fd6e9",
   "metadata": {},
   "outputs": [],
   "source": [
    "# @title Command 6: Swipe Right\n",
    "petitcat_tester.send(\"6\")"
   ]
  },
  {
   "cell_type": "code",
   "execution_count": null,
   "id": "023123b4-67d5-4e13-86f7-005ca31e7153",
   "metadata": {},
   "outputs": [],
   "source": [
    "# @title Command 1: Turn left\n",
    "petitcat_tester.send(\"1\")"
   ]
  },
  {
   "cell_type": "code",
   "execution_count": null,
   "id": "0d6cb1e4-4054-4836-843c-3eb50ad05f06",
   "metadata": {},
   "outputs": [],
   "source": [
    "# @title Command 3: Turn right\n",
    "petitcat_tester.send(\"3\")"
   ]
  },
  {
   "cell_type": "code",
   "execution_count": null,
   "id": "2f965c38-da80-45a6-91d2-aa19560d9d06",
   "metadata": {},
   "outputs": [],
   "source": [
    "# @title Command 2: Backward\n",
    "petitcat_tester.send(\"2\")"
   ]
  },
  {
   "cell_type": "code",
   "execution_count": null,
   "id": "676947e9-a9dc-4568-b7db-a7bb14dab0e7",
   "metadata": {},
   "outputs": [],
   "source": [
    "# @title Command -: Scan\n",
    "petitcat_tester.send(\"-\")"
   ]
  },
  {
   "cell_type": "markdown",
   "id": "5c86e205-0ec2-4c84-b918-48ca8b257483",
   "metadata": {},
   "source": [
    "# Define optional fields"
   ]
  },
  {
   "cell_type": "markdown",
   "id": "4b6a281e-f583-4db2-881a-d35e33f5d2d1",
   "metadata": {},
   "source": [
    "Modify these optional fields and then resend some commands to the robot using the commands above. If the variable is None, the field is omitted in the command packet."
   ]
  },
  {
   "cell_type": "code",
   "execution_count": null,
   "id": "4346b737-1d76-4ca1-b143-b81d8eef2d16",
   "metadata": {},
   "outputs": [],
   "source": [
    "# The focus point's coordinates in mm or None\n",
    "petitcat_tester.focus_x = 300\n",
    "petitcat_tester.focus_y = 0\n",
    "# The led color: 0, 1, 2, 3, 4, 5, or None\n",
    "petitcat_tester.color = 1\n",
    "# The duration of translations in milliseconds or None\n",
    "petitcat_tester.duration = None\n",
    "# The angle of rotation in degrees or None\n",
    "petitcat_tester.angle = None\n",
    "# The span of scan saccades in degrees or None\n",
    "petitcat_tester.span = 10"
   ]
  },
  {
   "cell_type": "markdown",
   "id": "dc947e72-d518-46cc-b8ec-581c4beb9950",
   "metadata": {},
   "source": [
    "The focus point is defined in the robot's egocentric coordinate system. If the command packet contains the focus coordinates, the robot will keep its head aligned towards the focus point while enacting the interaction."
   ]
  },
  {
   "cell_type": "markdown",
   "id": "69489529-226f-4c98-b8e7-22b01dd89357",
   "metadata": {},
   "source": [
    "# Send a specific packet"
   ]
  },
  {
   "cell_type": "code",
   "execution_count": null,
   "id": "b77dba2b-819a-4fcb-aad4-a9839f2d0dc0",
   "metadata": {},
   "outputs": [],
   "source": [
    "Execute this command to send a specific string to the robot:"
   ]
  },
  {
   "cell_type": "code",
   "execution_count": 41,
   "id": "1f73eebf-66ef-4ffe-82f5-8302848e3b87",
   "metadata": {},
   "outputs": [
    {
     "data": {
      "text/plain": [
       "b'{\"clock\":4,\"action\":\"-\",\"duration1\":2867,\"head_angle\":40,\"echo_distance\":603,\"floor\":0,\"color\":{\"red\":87,\"green\":92,\"blue\":82,\"clear\":6343},\"yaw\":0,\"compass_x\":-161,\"compass_y\":132,\"azimuth\":321,\"duration\":4039,\"echos\":{\"80\":530,\"70\":527,\"60\":617,\"50\":608,\"40\":596,\"30\":609,\"20\":619,\"-20\":901,\"-30\":891,\"-40\":890,\"-50\":885,\"-60\":889,\"-70\":890,\"-80\":888,\"-90\":895},\"status\":\"0\"}'"
      ]
     },
     "execution_count": 41,
     "metadata": {},
     "output_type": "execute_result"
    }
   ],
   "source": [
    "petitcat_tester.enact('{\"clock\":5, \"action\": \"-\", \"span\": 10, \"color\": 2, \"align\":1}')"
   ]
  },
  {
   "cell_type": "code",
   "execution_count": null,
   "id": "01f532df-ce72-499c-a5f2-4488b658743c",
   "metadata": {},
   "outputs": [],
   "source": []
  },
  {
   "cell_type": "code",
   "execution_count": null,
   "id": "4e1e1f2c-c42a-45db-b731-cbde05906bc8",
   "metadata": {},
   "outputs": [],
   "source": []
  }
 ],
 "metadata": {
  "kernelspec": {
   "display_name": "Python 3 (ipykernel)",
   "language": "python",
   "name": "python3"
  },
  "language_info": {
   "codemirror_mode": {
    "name": "ipython",
    "version": 3
   },
   "file_extension": ".py",
   "mimetype": "text/x-python",
   "name": "python",
   "nbconvert_exporter": "python",
   "pygments_lexer": "ipython3",
   "version": "3.9.5"
  }
 },
 "nbformat": 4,
 "nbformat_minor": 5
}
